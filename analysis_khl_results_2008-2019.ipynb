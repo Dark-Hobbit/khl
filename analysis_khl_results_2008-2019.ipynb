{
 "cells": [
  {
   "cell_type": "code",
   "execution_count": 1,
   "id": "3c6159f4",
   "metadata": {},
   "outputs": [],
   "source": [
    "# Importing standard packages for data analysis\n",
    "\n",
    "import numpy as np\n",
    "import pandas as pd\n",
    "import matplotlib.pyplot as plt\n",
    "import seaborn as sns\n",
    "\n",
    "%matplotlib inline\n",
    "\n",
    "# Reading in original data for the 2008-2019 KHL game results\n",
    "\n",
    "games = pd.read_csv('source_files\\khl_results_2008_2019')"
   ]
  },
  {
   "cell_type": "code",
   "execution_count": 3,
   "id": "8448c32e",
   "metadata": {},
   "outputs": [
    {
     "name": "stderr",
     "output_type": "stream",
     "text": [
      "<ipython-input-3-c6799da960d9>:45: SettingWithCopyWarning: \n",
      "A value is trying to be set on a copy of a slice from a DataFrame.\n",
      "Try using .loc[row_indexer,col_indexer] = value instead\n",
      "\n",
      "See the caveats in the documentation: https://pandas.pydata.org/pandas-docs/stable/user_guide/indexing.html#returning-a-view-versus-a-copy\n",
      "  summary['GAP'] = abs(summary['HG'] - summary['AG'])\n"
     ]
    }
   ],
   "source": [
    "# The original file includes a number of columns with data on specific periods of the match.\n",
    "# While this may be helpful for some analysis, we are going to look at data on just the match level for now.\n",
    "# See the list of the columns from the original data with descriptions below:\n",
    "\n",
    "# DATE - date\n",
    "# DAY - day\n",
    "# MONTH - month\n",
    "# YEAR - year\n",
    "# SEASON - season\n",
    "# HOMETEAM - home team\n",
    "# AWAYTEAM - away team\n",
    "# WINNER - winner, including all overtimes (OT) and shoot outs (SO)\n",
    "# HG - home goals, including all overtimes (OT) and shoot outs (SO)\n",
    "# AG - away goals, including all overtimes (OT) and shoot outs (SO)\n",
    "# ADD - if there is overtime (OT) or shoot out (SO)\n",
    "# HG1 - home goals 1 period\n",
    "# AG1 - away goals 1 period\n",
    "# TOTAL1 - total goals 1 period\n",
    "# HG2 - home goals 3 period\n",
    "# AG2 - away goals 2 period\n",
    "# TOTAL2 - total goals 2 period\n",
    "# HG - home goals 3 period\n",
    "# AG3 - away goals 3 period\n",
    "# TOTAL3 - total goals 3 period\n",
    "# HGOT - home goals in OT\n",
    "# AGOT - away goals in OT\n",
    "# HGSO - home goals in SO\n",
    "# AGSO - away goals in SO\n",
    "# TOTALOT - total goals OT\n",
    "# TOTALMAIN - Total goals 3 periods only\n",
    "# TOTALFULL - total goals full game (including OT and SO - plus 1 goal to winning team)\n",
    "# TOTALHMAIN - total goals home team 3 periods\n",
    "# TOTALAWAYMAIN - total goals away team 3 periods\n",
    "# GAP3PERIODS - absolute value in gap between home and away teams' goals scored.\n",
    "\n",
    "# Creating a copy of the dataframe with only the information we might need for now.\n",
    "\n",
    "summary = games[['DATE', 'DAY', 'MONTH', 'YEAR', 'SEASON', 'HOMETEAM', 'AWAYTEAM',\n",
    "       'WINNER', 'HG', 'AG', 'TOTALFULL']]\n",
    "\n",
    "# The absolute difference in goals scored is an interesting metric to add to our data.\n",
    "# However, GAP3PERIODS does not include the difference coming from OT or SO.\n",
    "# To maintain consistency in our decision to look at the match level only, we will calculate the metric ourselves.\n",
    "\n",
    "summary['GAP'] = abs(summary['HG'] - summary['AG'])\n",
    "\n",
    "summary.to_csv('game_results', encoding='utf8', index=False)"
   ]
  }
 ],
 "metadata": {
  "kernelspec": {
   "display_name": "Python 3",
   "language": "python",
   "name": "python3"
  },
  "language_info": {
   "codemirror_mode": {
    "name": "ipython",
    "version": 3
   },
   "file_extension": ".py",
   "mimetype": "text/x-python",
   "name": "python",
   "nbconvert_exporter": "python",
   "pygments_lexer": "ipython3",
   "version": "3.8.8"
  }
 },
 "nbformat": 4,
 "nbformat_minor": 5
}
