{
 "cells": [
  {
   "cell_type": "markdown",
   "id": "3810db53",
   "metadata": {},
   "source": [
    "People always look at a player's performance over the past season or several as an indicator of his skills. But how accurate is it actually at predicting the same player's performance in the new season? How many seasons back should be look? And how much the player's team can affect it? Those are the main topics this notebook aims to research.\n",
    "\n",
    "At first, we are going to test out a simple model where we are only interested in the points (goals + assists) and, therefore, only the skaters. If the model shows any promising result, we can attempt expanding it to the other key performance indicators as well."
   ]
  },
  {
   "cell_type": "code",
   "execution_count": 1,
   "id": "f959f0f2",
   "metadata": {},
   "outputs": [
    {
     "data": {
      "text/html": [
       "<div>\n",
       "<style scoped>\n",
       "    .dataframe tbody tr th:only-of-type {\n",
       "        vertical-align: middle;\n",
       "    }\n",
       "\n",
       "    .dataframe tbody tr th {\n",
       "        vertical-align: top;\n",
       "    }\n",
       "\n",
       "    .dataframe thead th {\n",
       "        text-align: right;\n",
       "    }\n",
       "</style>\n",
       "<table border=\"1\" class=\"dataframe\">\n",
       "  <thead>\n",
       "    <tr style=\"text-align: right;\">\n",
       "      <th></th>\n",
       "      <th>Profile</th>\n",
       "      <th>Player</th>\n",
       "      <th>Season</th>\n",
       "      <th>Year</th>\n",
       "      <th>Team</th>\n",
       "      <th>Games</th>\n",
       "      <th>Points</th>\n",
       "      <th>Icetime_game_seconds</th>\n",
       "    </tr>\n",
       "  </thead>\n",
       "  <tbody>\n",
       "    <tr>\n",
       "      <th>0</th>\n",
       "      <td>https://en.khl.ru/players/16673/</td>\n",
       "      <td>Sergei Abramov</td>\n",
       "      <td>Regular season</td>\n",
       "      <td>2014/2015</td>\n",
       "      <td>Amur (Khabarovsk)</td>\n",
       "      <td>13</td>\n",
       "      <td>1</td>\n",
       "      <td>417</td>\n",
       "    </tr>\n",
       "    <tr>\n",
       "      <th>1</th>\n",
       "      <td>https://en.khl.ru/players/16673/</td>\n",
       "      <td>Sergei Abramov</td>\n",
       "      <td>Regular season</td>\n",
       "      <td>2013/2014</td>\n",
       "      <td>Amur (Khabarovsk)</td>\n",
       "      <td>12</td>\n",
       "      <td>0</td>\n",
       "      <td>375</td>\n",
       "    </tr>\n",
       "    <tr>\n",
       "      <th>2</th>\n",
       "      <td>https://en.khl.ru/players/19200/</td>\n",
       "      <td>Dmitry Ambrozheichik</td>\n",
       "      <td>Regular season</td>\n",
       "      <td>2017/2018</td>\n",
       "      <td>Dinamo (Minsk)</td>\n",
       "      <td>8</td>\n",
       "      <td>0</td>\n",
       "      <td>360</td>\n",
       "    </tr>\n",
       "    <tr>\n",
       "      <th>3</th>\n",
       "      <td>https://en.khl.ru/players/19200/</td>\n",
       "      <td>Dmitry Ambrozheichik</td>\n",
       "      <td>Regular season</td>\n",
       "      <td>2016/2017</td>\n",
       "      <td>Dinamo (Minsk)</td>\n",
       "      <td>20</td>\n",
       "      <td>4</td>\n",
       "      <td>583</td>\n",
       "    </tr>\n",
       "    <tr>\n",
       "      <th>4</th>\n",
       "      <td>https://en.khl.ru/players/19200/</td>\n",
       "      <td>Dmitry Ambrozheichik</td>\n",
       "      <td>Regular season</td>\n",
       "      <td>2015/2016</td>\n",
       "      <td>Dinamo (Minsk)</td>\n",
       "      <td>11</td>\n",
       "      <td>1</td>\n",
       "      <td>283</td>\n",
       "    </tr>\n",
       "  </tbody>\n",
       "</table>\n",
       "</div>"
      ],
      "text/plain": [
       "                            Profile                Player          Season  \\\n",
       "0  https://en.khl.ru/players/16673/        Sergei Abramov  Regular season   \n",
       "1  https://en.khl.ru/players/16673/        Sergei Abramov  Regular season   \n",
       "2  https://en.khl.ru/players/19200/  Dmitry Ambrozheichik  Regular season   \n",
       "3  https://en.khl.ru/players/19200/  Dmitry Ambrozheichik  Regular season   \n",
       "4  https://en.khl.ru/players/19200/  Dmitry Ambrozheichik  Regular season   \n",
       "\n",
       "        Year               Team  Games  Points  Icetime_game_seconds  \n",
       "0  2014/2015  Amur (Khabarovsk)     13       1                   417  \n",
       "1  2013/2014  Amur (Khabarovsk)     12       0                   375  \n",
       "2  2017/2018     Dinamo (Minsk)      8       0                   360  \n",
       "3  2016/2017     Dinamo (Minsk)     20       4                   583  \n",
       "4  2015/2016     Dinamo (Minsk)     11       1                   283  "
      ]
     },
     "execution_count": 1,
     "metadata": {},
     "output_type": "execute_result"
    }
   ],
   "source": [
    "# Importing standard packages for data exploration and processing.\n",
    "import numpy as np\n",
    "import pandas as pd\n",
    "\n",
    "pd.set_option(\"display.max_rows\", None)\n",
    "pd.set_option(\"display.max_columns\", None)\n",
    "\n",
    "\n",
    "# We do not need the whole dataframe.\n",
    "columns_read = ['Profile', 'Player', 'Season', 'Team', 'Year', 'Games', 'Points', 'Icetime_game_seconds']\n",
    "data = pd.read_csv('../data/players/skaters_season.csv', usecols=columns_read)\n",
    "data.head()"
   ]
  },
  {
   "cell_type": "markdown",
   "id": "c394b936",
   "metadata": {},
   "source": [
    "We will definitely need the total time on ice over the season. After all, two players might be equally skilled but one of them simply gets much more icetime and thus gets more points. What we are going to use is not the points over the season but really a standartised amount of points over a certain interval. For ease of browse, let us set the interval as 60 minutes (standard match length) the same as with goalies."
   ]
  },
  {
   "cell_type": "code",
   "execution_count": 2,
   "id": "e1732fd0",
   "metadata": {},
   "outputs": [
    {
     "data": {
      "text/html": [
       "<div>\n",
       "<style scoped>\n",
       "    .dataframe tbody tr th:only-of-type {\n",
       "        vertical-align: middle;\n",
       "    }\n",
       "\n",
       "    .dataframe tbody tr th {\n",
       "        vertical-align: top;\n",
       "    }\n",
       "\n",
       "    .dataframe thead th {\n",
       "        text-align: right;\n",
       "    }\n",
       "</style>\n",
       "<table border=\"1\" class=\"dataframe\">\n",
       "  <thead>\n",
       "    <tr style=\"text-align: right;\">\n",
       "      <th></th>\n",
       "      <th>Profile</th>\n",
       "      <th>Player</th>\n",
       "      <th>Season</th>\n",
       "      <th>Year</th>\n",
       "      <th>Team</th>\n",
       "      <th>Games</th>\n",
       "      <th>Points</th>\n",
       "      <th>Icetime_game_seconds</th>\n",
       "      <th>Icetime</th>\n",
       "      <th>Points_average</th>\n",
       "    </tr>\n",
       "  </thead>\n",
       "  <tbody>\n",
       "    <tr>\n",
       "      <th>0</th>\n",
       "      <td>https://en.khl.ru/players/16673/</td>\n",
       "      <td>Sergei Abramov</td>\n",
       "      <td>Regular season</td>\n",
       "      <td>2014/2015</td>\n",
       "      <td>Amur (Khabarovsk)</td>\n",
       "      <td>13</td>\n",
       "      <td>1</td>\n",
       "      <td>417</td>\n",
       "      <td>1.505833</td>\n",
       "      <td>0.664084</td>\n",
       "    </tr>\n",
       "    <tr>\n",
       "      <th>1</th>\n",
       "      <td>https://en.khl.ru/players/16673/</td>\n",
       "      <td>Sergei Abramov</td>\n",
       "      <td>Regular season</td>\n",
       "      <td>2013/2014</td>\n",
       "      <td>Amur (Khabarovsk)</td>\n",
       "      <td>12</td>\n",
       "      <td>0</td>\n",
       "      <td>375</td>\n",
       "      <td>1.250000</td>\n",
       "      <td>0.000000</td>\n",
       "    </tr>\n",
       "    <tr>\n",
       "      <th>2</th>\n",
       "      <td>https://en.khl.ru/players/19200/</td>\n",
       "      <td>Dmitry Ambrozheichik</td>\n",
       "      <td>Regular season</td>\n",
       "      <td>2017/2018</td>\n",
       "      <td>Dinamo (Minsk)</td>\n",
       "      <td>8</td>\n",
       "      <td>0</td>\n",
       "      <td>360</td>\n",
       "      <td>0.800000</td>\n",
       "      <td>0.000000</td>\n",
       "    </tr>\n",
       "    <tr>\n",
       "      <th>3</th>\n",
       "      <td>https://en.khl.ru/players/19200/</td>\n",
       "      <td>Dmitry Ambrozheichik</td>\n",
       "      <td>Regular season</td>\n",
       "      <td>2016/2017</td>\n",
       "      <td>Dinamo (Minsk)</td>\n",
       "      <td>20</td>\n",
       "      <td>4</td>\n",
       "      <td>583</td>\n",
       "      <td>3.238889</td>\n",
       "      <td>1.234991</td>\n",
       "    </tr>\n",
       "    <tr>\n",
       "      <th>4</th>\n",
       "      <td>https://en.khl.ru/players/19200/</td>\n",
       "      <td>Dmitry Ambrozheichik</td>\n",
       "      <td>Regular season</td>\n",
       "      <td>2015/2016</td>\n",
       "      <td>Dinamo (Minsk)</td>\n",
       "      <td>11</td>\n",
       "      <td>1</td>\n",
       "      <td>283</td>\n",
       "      <td>0.864722</td>\n",
       "      <td>1.156441</td>\n",
       "    </tr>\n",
       "  </tbody>\n",
       "</table>\n",
       "</div>"
      ],
      "text/plain": [
       "                            Profile                Player          Season  \\\n",
       "0  https://en.khl.ru/players/16673/        Sergei Abramov  Regular season   \n",
       "1  https://en.khl.ru/players/16673/        Sergei Abramov  Regular season   \n",
       "2  https://en.khl.ru/players/19200/  Dmitry Ambrozheichik  Regular season   \n",
       "3  https://en.khl.ru/players/19200/  Dmitry Ambrozheichik  Regular season   \n",
       "4  https://en.khl.ru/players/19200/  Dmitry Ambrozheichik  Regular season   \n",
       "\n",
       "        Year               Team  Games  Points  Icetime_game_seconds  \\\n",
       "0  2014/2015  Amur (Khabarovsk)     13       1                   417   \n",
       "1  2013/2014  Amur (Khabarovsk)     12       0                   375   \n",
       "2  2017/2018     Dinamo (Minsk)      8       0                   360   \n",
       "3  2016/2017     Dinamo (Minsk)     20       4                   583   \n",
       "4  2015/2016     Dinamo (Minsk)     11       1                   283   \n",
       "\n",
       "    Icetime  Points_average  \n",
       "0  1.505833        0.664084  \n",
       "1  1.250000        0.000000  \n",
       "2  0.800000        0.000000  \n",
       "3  3.238889        1.234991  \n",
       "4  0.864722        1.156441  "
      ]
     },
     "execution_count": 2,
     "metadata": {},
     "output_type": "execute_result"
    }
   ],
   "source": [
    "data['Icetime'] = data['Games'] * data['Icetime_game_seconds'] / 3600\n",
    "data['Points_average'] = data['Points'] / data['Icetime']\n",
    "data.head()"
   ]
  },
  {
   "cell_type": "markdown",
   "id": "beaf4644",
   "metadata": {},
   "source": [
    "Since we are using averages we need to ensure that all players have participated at a certain bare mininum during the season. Otherwise, their results that season are not accurate enough to base any predictions off. They are also subject to a lot of fluctuation that would end up getting accredited to other factors.\n",
    "\n",
    "This could be accounted for in several ways, based off either games played, points scored or icetime recorded. We are going to use all three. Let us set the minimum requirement at 30 games, 10 minutes of icetime per game and 10 points.\n",
    "\n",
    "On a related note, let us drop all playoff seasons from the data. Not only they tend to be fairly short and would be mostly sorted out based on the icetime required, but the playoff matches tend to behave somewhat differently than the regular season."
   ]
  },
  {
   "cell_type": "code",
   "execution_count": 3,
   "id": "b2c05cd7",
   "metadata": {},
   "outputs": [],
   "source": [
    "data = data[data['Season'] == 'Regular season']\n",
    "data = data[data['Games'] >= 30]\n",
    "data = data[data['Icetime_game_seconds'] >= 600]\n",
    "data = data[data['Points'] >= 10]"
   ]
  },
  {
   "cell_type": "code",
   "execution_count": 4,
   "id": "5d7c7ffb",
   "metadata": {},
   "outputs": [
    {
     "data": {
      "text/html": [
       "<div>\n",
       "<style scoped>\n",
       "    .dataframe tbody tr th:only-of-type {\n",
       "        vertical-align: middle;\n",
       "    }\n",
       "\n",
       "    .dataframe tbody tr th {\n",
       "        vertical-align: top;\n",
       "    }\n",
       "\n",
       "    .dataframe thead th {\n",
       "        text-align: right;\n",
       "    }\n",
       "</style>\n",
       "<table border=\"1\" class=\"dataframe\">\n",
       "  <thead>\n",
       "    <tr style=\"text-align: right;\">\n",
       "      <th></th>\n",
       "      <th>Games</th>\n",
       "      <th>Points</th>\n",
       "      <th>Icetime_game_seconds</th>\n",
       "      <th>Icetime</th>\n",
       "      <th>Points_average</th>\n",
       "    </tr>\n",
       "  </thead>\n",
       "  <tbody>\n",
       "    <tr>\n",
       "      <th>count</th>\n",
       "      <td>4794.000000</td>\n",
       "      <td>4794.000000</td>\n",
       "      <td>4794.000000</td>\n",
       "      <td>4794.000000</td>\n",
       "      <td>4794.000000</td>\n",
       "    </tr>\n",
       "    <tr>\n",
       "      <th>mean</th>\n",
       "      <td>48.821652</td>\n",
       "      <td>22.016688</td>\n",
       "      <td>1003.364622</td>\n",
       "      <td>13.674114</td>\n",
       "      <td>1.626762</td>\n",
       "    </tr>\n",
       "    <tr>\n",
       "      <th>std</th>\n",
       "      <td>7.585640</td>\n",
       "      <td>10.798156</td>\n",
       "      <td>173.329671</td>\n",
       "      <td>3.435627</td>\n",
       "      <td>0.661923</td>\n",
       "    </tr>\n",
       "    <tr>\n",
       "      <th>min</th>\n",
       "      <td>30.000000</td>\n",
       "      <td>10.000000</td>\n",
       "      <td>600.000000</td>\n",
       "      <td>5.287222</td>\n",
       "      <td>0.447094</td>\n",
       "    </tr>\n",
       "    <tr>\n",
       "      <th>25%</th>\n",
       "      <td>44.000000</td>\n",
       "      <td>14.000000</td>\n",
       "      <td>878.000000</td>\n",
       "      <td>11.158472</td>\n",
       "      <td>1.123944</td>\n",
       "    </tr>\n",
       "    <tr>\n",
       "      <th>50%</th>\n",
       "      <td>50.000000</td>\n",
       "      <td>19.000000</td>\n",
       "      <td>996.000000</td>\n",
       "      <td>13.555556</td>\n",
       "      <td>1.530128</td>\n",
       "    </tr>\n",
       "    <tr>\n",
       "      <th>75%</th>\n",
       "      <td>54.000000</td>\n",
       "      <td>27.000000</td>\n",
       "      <td>1119.750000</td>\n",
       "      <td>15.978472</td>\n",
       "      <td>2.016524</td>\n",
       "    </tr>\n",
       "    <tr>\n",
       "      <th>max</th>\n",
       "      <td>63.000000</td>\n",
       "      <td>85.000000</td>\n",
       "      <td>1720.000000</td>\n",
       "      <td>26.500000</td>\n",
       "      <td>5.162264</td>\n",
       "    </tr>\n",
       "  </tbody>\n",
       "</table>\n",
       "</div>"
      ],
      "text/plain": [
       "             Games       Points  Icetime_game_seconds      Icetime  \\\n",
       "count  4794.000000  4794.000000           4794.000000  4794.000000   \n",
       "mean     48.821652    22.016688           1003.364622    13.674114   \n",
       "std       7.585640    10.798156            173.329671     3.435627   \n",
       "min      30.000000    10.000000            600.000000     5.287222   \n",
       "25%      44.000000    14.000000            878.000000    11.158472   \n",
       "50%      50.000000    19.000000            996.000000    13.555556   \n",
       "75%      54.000000    27.000000           1119.750000    15.978472   \n",
       "max      63.000000    85.000000           1720.000000    26.500000   \n",
       "\n",
       "       Points_average  \n",
       "count     4794.000000  \n",
       "mean         1.626762  \n",
       "std          0.661923  \n",
       "min          0.447094  \n",
       "25%          1.123944  \n",
       "50%          1.530128  \n",
       "75%          2.016524  \n",
       "max          5.162264  "
      ]
     },
     "execution_count": 4,
     "metadata": {},
     "output_type": "execute_result"
    }
   ],
   "source": [
    "data.describe()"
   ]
  },
  {
   "cell_type": "markdown",
   "id": "c7781f49",
   "metadata": {},
   "source": [
    "Important note! We have some rows where Team is specified as \"Summary\". That is the case when a player has changed his team during the season, so he ends up having a separate row of statistics for both teams and for them combined.\n",
    "\n",
    "Ideally, we want to take such cases into account but it present problems of its own. If we keep just the summary, we cannot include teams in our model. If we keep the statistics for each team separately, the rows might fail the icetime requirement even if the player had enough icetime that season to get included. For now, let us go with the latter approach."
   ]
  },
  {
   "cell_type": "code",
   "execution_count": 5,
   "id": "d212ba25",
   "metadata": {},
   "outputs": [
    {
     "data": {
      "text/plain": [
       "4794"
      ]
     },
     "execution_count": 5,
     "metadata": {},
     "output_type": "execute_result"
    }
   ],
   "source": [
    "len(data)"
   ]
  },
  {
   "cell_type": "code",
   "execution_count": 6,
   "id": "8c7b68a2",
   "metadata": {},
   "outputs": [],
   "source": [
    "summary = data[data['Team'] == 'Summary']"
   ]
  },
  {
   "cell_type": "code",
   "execution_count": 7,
   "id": "1ab64959",
   "metadata": {},
   "outputs": [
    {
     "data": {
      "text/plain": [
       "459"
      ]
     },
     "execution_count": 7,
     "metadata": {},
     "output_type": "execute_result"
    }
   ],
   "source": [
    "len(summary)"
   ]
  },
  {
   "cell_type": "code",
   "execution_count": 8,
   "id": "105785de",
   "metadata": {},
   "outputs": [],
   "source": [
    "data = data.groupby(['Profile', 'Year']).filter(lambda x: len(x) == 1)"
   ]
  },
  {
   "cell_type": "code",
   "execution_count": 9,
   "id": "e9edb7b4",
   "metadata": {},
   "outputs": [
    {
     "data": {
      "text/plain": [
       "4298"
      ]
     },
     "execution_count": 9,
     "metadata": {},
     "output_type": "execute_result"
    }
   ],
   "source": [
    "len(data)"
   ]
  },
  {
   "cell_type": "code",
   "execution_count": 10,
   "id": "a808e39d",
   "metadata": {},
   "outputs": [],
   "source": [
    "data = pd.concat([data, summary])"
   ]
  },
  {
   "cell_type": "code",
   "execution_count": 11,
   "id": "f829016f",
   "metadata": {},
   "outputs": [
    {
     "data": {
      "text/plain": [
       "4757"
      ]
     },
     "execution_count": 11,
     "metadata": {},
     "output_type": "execute_result"
    }
   ],
   "source": [
    "len(data)"
   ]
  },
  {
   "cell_type": "code",
   "execution_count": 12,
   "id": "3cf80f87",
   "metadata": {},
   "outputs": [
    {
     "data": {
      "text/html": [
       "<div>\n",
       "<style scoped>\n",
       "    .dataframe tbody tr th:only-of-type {\n",
       "        vertical-align: middle;\n",
       "    }\n",
       "\n",
       "    .dataframe tbody tr th {\n",
       "        vertical-align: top;\n",
       "    }\n",
       "\n",
       "    .dataframe thead th {\n",
       "        text-align: right;\n",
       "    }\n",
       "</style>\n",
       "<table border=\"1\" class=\"dataframe\">\n",
       "  <thead>\n",
       "    <tr style=\"text-align: right;\">\n",
       "      <th></th>\n",
       "      <th>Games</th>\n",
       "      <th>Points</th>\n",
       "      <th>Icetime_game_seconds</th>\n",
       "      <th>Icetime</th>\n",
       "      <th>Points_average</th>\n",
       "    </tr>\n",
       "    <tr>\n",
       "      <th>Team</th>\n",
       "      <th></th>\n",
       "      <th></th>\n",
       "      <th></th>\n",
       "      <th></th>\n",
       "      <th></th>\n",
       "    </tr>\n",
       "  </thead>\n",
       "  <tbody>\n",
       "    <tr>\n",
       "      <th>Admiral (Vladivostok)</th>\n",
       "      <td>51.000000</td>\n",
       "      <td>20.444444</td>\n",
       "      <td>984.320988</td>\n",
       "      <td>14.031276</td>\n",
       "      <td>1.473516</td>\n",
       "    </tr>\n",
       "    <tr>\n",
       "      <th>Ak Bars (Kazan)</th>\n",
       "      <td>49.486772</td>\n",
       "      <td>24.010582</td>\n",
       "      <td>993.349206</td>\n",
       "      <td>13.714627</td>\n",
       "      <td>1.765843</td>\n",
       "    </tr>\n",
       "    <tr>\n",
       "      <th>Amur (Khabarovsk)</th>\n",
       "      <td>50.371429</td>\n",
       "      <td>19.335714</td>\n",
       "      <td>1015.478571</td>\n",
       "      <td>14.253639</td>\n",
       "      <td>1.378860</td>\n",
       "    </tr>\n",
       "    <tr>\n",
       "      <th>Atlant (Moscow Region)</th>\n",
       "      <td>50.150000</td>\n",
       "      <td>23.100000</td>\n",
       "      <td>998.750000</td>\n",
       "      <td>13.984753</td>\n",
       "      <td>1.666544</td>\n",
       "    </tr>\n",
       "    <tr>\n",
       "      <th>Avangard (Omsk)</th>\n",
       "      <td>50.072289</td>\n",
       "      <td>23.951807</td>\n",
       "      <td>1026.349398</td>\n",
       "      <td>14.354876</td>\n",
       "      <td>1.699036</td>\n",
       "    </tr>\n",
       "    <tr>\n",
       "      <th>Avtomobilist (Ekaterinburg)</th>\n",
       "      <td>49.838235</td>\n",
       "      <td>22.110294</td>\n",
       "      <td>1012.286765</td>\n",
       "      <td>14.103270</td>\n",
       "      <td>1.579833</td>\n",
       "    </tr>\n",
       "    <tr>\n",
       "      <th>Barys (Nur-Sultan)</th>\n",
       "      <td>50.156069</td>\n",
       "      <td>25.942197</td>\n",
       "      <td>1047.589595</td>\n",
       "      <td>14.707977</td>\n",
       "      <td>1.767115</td>\n",
       "    </tr>\n",
       "    <tr>\n",
       "      <th>CSKA (Moscow)</th>\n",
       "      <td>47.180791</td>\n",
       "      <td>23.237288</td>\n",
       "      <td>985.310734</td>\n",
       "      <td>12.972550</td>\n",
       "      <td>1.803635</td>\n",
       "    </tr>\n",
       "    <tr>\n",
       "      <th>Dinamo (Minsk)</th>\n",
       "      <td>48.936170</td>\n",
       "      <td>23.198582</td>\n",
       "      <td>1054.205674</td>\n",
       "      <td>14.339417</td>\n",
       "      <td>1.621045</td>\n",
       "    </tr>\n",
       "    <tr>\n",
       "      <th>Dinamo (Riga)</th>\n",
       "      <td>49.414966</td>\n",
       "      <td>21.605442</td>\n",
       "      <td>1042.564626</td>\n",
       "      <td>14.349902</td>\n",
       "      <td>1.516007</td>\n",
       "    </tr>\n",
       "    <tr>\n",
       "      <th>Donbass (Donetsk)</th>\n",
       "      <td>47.640000</td>\n",
       "      <td>21.800000</td>\n",
       "      <td>1076.160000</td>\n",
       "      <td>14.326711</td>\n",
       "      <td>1.560335</td>\n",
       "    </tr>\n",
       "    <tr>\n",
       "      <th>Dynamo (Moscow)</th>\n",
       "      <td>47.184615</td>\n",
       "      <td>21.938462</td>\n",
       "      <td>981.302564</td>\n",
       "      <td>12.987140</td>\n",
       "      <td>1.699250</td>\n",
       "    </tr>\n",
       "    <tr>\n",
       "      <th>HC MVD (Moscow Region)</th>\n",
       "      <td>48.483871</td>\n",
       "      <td>21.225806</td>\n",
       "      <td>1008.161290</td>\n",
       "      <td>13.614615</td>\n",
       "      <td>1.626439</td>\n",
       "    </tr>\n",
       "    <tr>\n",
       "      <th>Jokerit (Helsinki)</th>\n",
       "      <td>50.981132</td>\n",
       "      <td>24.811321</td>\n",
       "      <td>996.650943</td>\n",
       "      <td>14.228687</td>\n",
       "      <td>1.736719</td>\n",
       "    </tr>\n",
       "    <tr>\n",
       "      <th>Khimik (Voskresensk)</th>\n",
       "      <td>51.250000</td>\n",
       "      <td>19.250000</td>\n",
       "      <td>968.875000</td>\n",
       "      <td>13.871111</td>\n",
       "      <td>1.441902</td>\n",
       "    </tr>\n",
       "    <tr>\n",
       "      <th>Kunlun Red Star (Beijing)</th>\n",
       "      <td>50.566667</td>\n",
       "      <td>18.966667</td>\n",
       "      <td>1003.700000</td>\n",
       "      <td>14.073069</td>\n",
       "      <td>1.355627</td>\n",
       "    </tr>\n",
       "    <tr>\n",
       "      <th>Lada (Togliatti)</th>\n",
       "      <td>50.309859</td>\n",
       "      <td>17.859155</td>\n",
       "      <td>965.901408</td>\n",
       "      <td>13.610368</td>\n",
       "      <td>1.341163</td>\n",
       "    </tr>\n",
       "    <tr>\n",
       "      <th>Lev (Poprad)</th>\n",
       "      <td>43.666667</td>\n",
       "      <td>18.416667</td>\n",
       "      <td>1016.083333</td>\n",
       "      <td>12.388009</td>\n",
       "      <td>1.533392</td>\n",
       "    </tr>\n",
       "    <tr>\n",
       "      <th>Lev (Praha)</th>\n",
       "      <td>46.080000</td>\n",
       "      <td>19.120000</td>\n",
       "      <td>984.920000</td>\n",
       "      <td>12.651567</td>\n",
       "      <td>1.524595</td>\n",
       "    </tr>\n",
       "    <tr>\n",
       "      <th>Lokomotiv (Yaroslavl)</th>\n",
       "      <td>50.872093</td>\n",
       "      <td>22.662791</td>\n",
       "      <td>963.430233</td>\n",
       "      <td>13.745420</td>\n",
       "      <td>1.673542</td>\n",
       "    </tr>\n",
       "    <tr>\n",
       "      <th>Medvescak (Zagreb)</th>\n",
       "      <td>50.913043</td>\n",
       "      <td>21.130435</td>\n",
       "      <td>1004.586957</td>\n",
       "      <td>14.194855</td>\n",
       "      <td>1.488932</td>\n",
       "    </tr>\n",
       "    <tr>\n",
       "      <th>Metallurg (Magnitogorsk)</th>\n",
       "      <td>51.634731</td>\n",
       "      <td>26.610778</td>\n",
       "      <td>1031.371257</td>\n",
       "      <td>14.852951</td>\n",
       "      <td>1.769460</td>\n",
       "    </tr>\n",
       "    <tr>\n",
       "      <th>Metallurg (Novokuznetsk)</th>\n",
       "      <td>50.352941</td>\n",
       "      <td>17.258824</td>\n",
       "      <td>968.235294</td>\n",
       "      <td>13.602183</td>\n",
       "      <td>1.286964</td>\n",
       "    </tr>\n",
       "    <tr>\n",
       "      <th>Neftekhimik (Nizhnekamsk)</th>\n",
       "      <td>49.233333</td>\n",
       "      <td>20.693333</td>\n",
       "      <td>1010.453333</td>\n",
       "      <td>13.892506</td>\n",
       "      <td>1.529342</td>\n",
       "    </tr>\n",
       "    <tr>\n",
       "      <th>SKA (Saint Petersburg)</th>\n",
       "      <td>48.215385</td>\n",
       "      <td>27.092308</td>\n",
       "      <td>972.892308</td>\n",
       "      <td>13.096960</td>\n",
       "      <td>2.065081</td>\n",
       "    </tr>\n",
       "    <tr>\n",
       "      <th>Salavat Yulaev (Ufa)</th>\n",
       "      <td>49.374332</td>\n",
       "      <td>25.572193</td>\n",
       "      <td>989.566845</td>\n",
       "      <td>13.666955</td>\n",
       "      <td>1.858877</td>\n",
       "    </tr>\n",
       "    <tr>\n",
       "      <th>Severstal (Cherepovets)</th>\n",
       "      <td>49.966216</td>\n",
       "      <td>20.405405</td>\n",
       "      <td>1012.229730</td>\n",
       "      <td>14.110103</td>\n",
       "      <td>1.479277</td>\n",
       "    </tr>\n",
       "    <tr>\n",
       "      <th>Sibir (Novosibirsk Region)</th>\n",
       "      <td>51.360000</td>\n",
       "      <td>22.500000</td>\n",
       "      <td>1003.280000</td>\n",
       "      <td>14.377785</td>\n",
       "      <td>1.598879</td>\n",
       "    </tr>\n",
       "    <tr>\n",
       "      <th>Slovan (Bratislava)</th>\n",
       "      <td>49.951220</td>\n",
       "      <td>19.280488</td>\n",
       "      <td>1042.768293</td>\n",
       "      <td>14.464170</td>\n",
       "      <td>1.346579</td>\n",
       "    </tr>\n",
       "    <tr>\n",
       "      <th>Sochi (Sochi)</th>\n",
       "      <td>51.693333</td>\n",
       "      <td>22.840000</td>\n",
       "      <td>1025.626667</td>\n",
       "      <td>14.777341</td>\n",
       "      <td>1.569609</td>\n",
       "    </tr>\n",
       "    <tr>\n",
       "      <th>Spartak (Moscow)</th>\n",
       "      <td>49.822695</td>\n",
       "      <td>21.858156</td>\n",
       "      <td>1009.617021</td>\n",
       "      <td>14.013359</td>\n",
       "      <td>1.566884</td>\n",
       "    </tr>\n",
       "    <tr>\n",
       "      <th>Summary</th>\n",
       "      <td>45.104478</td>\n",
       "      <td>17.701493</td>\n",
       "      <td>948.708955</td>\n",
       "      <td>11.953342</td>\n",
       "      <td>1.507300</td>\n",
       "    </tr>\n",
       "    <tr>\n",
       "      <th>Torpedo (Nizhny Novgorod Region)</th>\n",
       "      <td>50.906832</td>\n",
       "      <td>23.416149</td>\n",
       "      <td>1021.223602</td>\n",
       "      <td>14.489091</td>\n",
       "      <td>1.623108</td>\n",
       "    </tr>\n",
       "    <tr>\n",
       "      <th>Traktor (Chelyabinsk)</th>\n",
       "      <td>51.158940</td>\n",
       "      <td>21.880795</td>\n",
       "      <td>1015.655629</td>\n",
       "      <td>14.441038</td>\n",
       "      <td>1.527564</td>\n",
       "    </tr>\n",
       "    <tr>\n",
       "      <th>Ugra (Khanty-Mansiysk)</th>\n",
       "      <td>48.207792</td>\n",
       "      <td>19.298701</td>\n",
       "      <td>1002.142857</td>\n",
       "      <td>13.478994</td>\n",
       "      <td>1.469635</td>\n",
       "    </tr>\n",
       "    <tr>\n",
       "      <th>Vityaz (Moscow Region)</th>\n",
       "      <td>49.496350</td>\n",
       "      <td>20.474453</td>\n",
       "      <td>991.116788</td>\n",
       "      <td>13.739688</td>\n",
       "      <td>1.500545</td>\n",
       "    </tr>\n",
       "  </tbody>\n",
       "</table>\n",
       "</div>"
      ],
      "text/plain": [
       "                                      Games     Points  Icetime_game_seconds  \\\n",
       "Team                                                                           \n",
       "Admiral (Vladivostok)             51.000000  20.444444            984.320988   \n",
       "Ak Bars (Kazan)                   49.486772  24.010582            993.349206   \n",
       "Amur (Khabarovsk)                 50.371429  19.335714           1015.478571   \n",
       "Atlant (Moscow Region)            50.150000  23.100000            998.750000   \n",
       "Avangard (Omsk)                   50.072289  23.951807           1026.349398   \n",
       "Avtomobilist (Ekaterinburg)       49.838235  22.110294           1012.286765   \n",
       "Barys (Nur-Sultan)                50.156069  25.942197           1047.589595   \n",
       "CSKA (Moscow)                     47.180791  23.237288            985.310734   \n",
       "Dinamo (Minsk)                    48.936170  23.198582           1054.205674   \n",
       "Dinamo (Riga)                     49.414966  21.605442           1042.564626   \n",
       "Donbass (Donetsk)                 47.640000  21.800000           1076.160000   \n",
       "Dynamo (Moscow)                   47.184615  21.938462            981.302564   \n",
       "HC MVD (Moscow Region)            48.483871  21.225806           1008.161290   \n",
       "Jokerit (Helsinki)                50.981132  24.811321            996.650943   \n",
       "Khimik (Voskresensk)              51.250000  19.250000            968.875000   \n",
       "Kunlun Red Star (Beijing)         50.566667  18.966667           1003.700000   \n",
       "Lada (Togliatti)                  50.309859  17.859155            965.901408   \n",
       "Lev (Poprad)                      43.666667  18.416667           1016.083333   \n",
       "Lev (Praha)                       46.080000  19.120000            984.920000   \n",
       "Lokomotiv (Yaroslavl)             50.872093  22.662791            963.430233   \n",
       "Medvescak (Zagreb)                50.913043  21.130435           1004.586957   \n",
       "Metallurg (Magnitogorsk)          51.634731  26.610778           1031.371257   \n",
       "Metallurg (Novokuznetsk)          50.352941  17.258824            968.235294   \n",
       "Neftekhimik (Nizhnekamsk)         49.233333  20.693333           1010.453333   \n",
       "SKA (Saint Petersburg)            48.215385  27.092308            972.892308   \n",
       "Salavat Yulaev (Ufa)              49.374332  25.572193            989.566845   \n",
       "Severstal (Cherepovets)           49.966216  20.405405           1012.229730   \n",
       "Sibir (Novosibirsk Region)        51.360000  22.500000           1003.280000   \n",
       "Slovan (Bratislava)               49.951220  19.280488           1042.768293   \n",
       "Sochi (Sochi)                     51.693333  22.840000           1025.626667   \n",
       "Spartak (Moscow)                  49.822695  21.858156           1009.617021   \n",
       "Summary                           45.104478  17.701493            948.708955   \n",
       "Torpedo (Nizhny Novgorod Region)  50.906832  23.416149           1021.223602   \n",
       "Traktor (Chelyabinsk)             51.158940  21.880795           1015.655629   \n",
       "Ugra (Khanty-Mansiysk)            48.207792  19.298701           1002.142857   \n",
       "Vityaz (Moscow Region)            49.496350  20.474453            991.116788   \n",
       "\n",
       "                                    Icetime  Points_average  \n",
       "Team                                                         \n",
       "Admiral (Vladivostok)             14.031276        1.473516  \n",
       "Ak Bars (Kazan)                   13.714627        1.765843  \n",
       "Amur (Khabarovsk)                 14.253639        1.378860  \n",
       "Atlant (Moscow Region)            13.984753        1.666544  \n",
       "Avangard (Omsk)                   14.354876        1.699036  \n",
       "Avtomobilist (Ekaterinburg)       14.103270        1.579833  \n",
       "Barys (Nur-Sultan)                14.707977        1.767115  \n",
       "CSKA (Moscow)                     12.972550        1.803635  \n",
       "Dinamo (Minsk)                    14.339417        1.621045  \n",
       "Dinamo (Riga)                     14.349902        1.516007  \n",
       "Donbass (Donetsk)                 14.326711        1.560335  \n",
       "Dynamo (Moscow)                   12.987140        1.699250  \n",
       "HC MVD (Moscow Region)            13.614615        1.626439  \n",
       "Jokerit (Helsinki)                14.228687        1.736719  \n",
       "Khimik (Voskresensk)              13.871111        1.441902  \n",
       "Kunlun Red Star (Beijing)         14.073069        1.355627  \n",
       "Lada (Togliatti)                  13.610368        1.341163  \n",
       "Lev (Poprad)                      12.388009        1.533392  \n",
       "Lev (Praha)                       12.651567        1.524595  \n",
       "Lokomotiv (Yaroslavl)             13.745420        1.673542  \n",
       "Medvescak (Zagreb)                14.194855        1.488932  \n",
       "Metallurg (Magnitogorsk)          14.852951        1.769460  \n",
       "Metallurg (Novokuznetsk)          13.602183        1.286964  \n",
       "Neftekhimik (Nizhnekamsk)         13.892506        1.529342  \n",
       "SKA (Saint Petersburg)            13.096960        2.065081  \n",
       "Salavat Yulaev (Ufa)              13.666955        1.858877  \n",
       "Severstal (Cherepovets)           14.110103        1.479277  \n",
       "Sibir (Novosibirsk Region)        14.377785        1.598879  \n",
       "Slovan (Bratislava)               14.464170        1.346579  \n",
       "Sochi (Sochi)                     14.777341        1.569609  \n",
       "Spartak (Moscow)                  14.013359        1.566884  \n",
       "Summary                           11.953342        1.507300  \n",
       "Torpedo (Nizhny Novgorod Region)  14.489091        1.623108  \n",
       "Traktor (Chelyabinsk)             14.441038        1.527564  \n",
       "Ugra (Khanty-Mansiysk)            13.478994        1.469635  \n",
       "Vityaz (Moscow Region)            13.739688        1.500545  "
      ]
     },
     "execution_count": 12,
     "metadata": {},
     "output_type": "execute_result"
    }
   ],
   "source": [
    "data.groupby('Team').mean()"
   ]
  },
  {
   "cell_type": "markdown",
   "id": "62a4a76b",
   "metadata": {},
   "source": [
    "We are going to first try predicting based off the latest two seasons that player has participated in. Important note - those seasons are not necessarily the last ones as a player could not participate in some seasons or not participate enough to be included in our analysis. And since we need the values for at least the current and two latest seasons for each player, players with less than 3 seasons in the data have to be dropped altogether."
   ]
  },
  {
   "cell_type": "code",
   "execution_count": 13,
   "id": "4a4c0e85",
   "metadata": {},
   "outputs": [],
   "source": [
    "data = data.groupby('Profile').filter(lambda x: len(x) > 2)"
   ]
  },
  {
   "cell_type": "code",
   "execution_count": 14,
   "id": "f659aa76",
   "metadata": {},
   "outputs": [
    {
     "data": {
      "text/plain": [
       "Index(['Profile', 'Player', 'Season', 'Year', 'Team', 'Games', 'Points',\n",
       "       'Icetime_game_seconds', 'Icetime', 'Points_average'],\n",
       "      dtype='object')"
      ]
     },
     "execution_count": 14,
     "metadata": {},
     "output_type": "execute_result"
    }
   ],
   "source": [
    "# To avoid typing column lists manually.\n",
    "data.columns"
   ]
  },
  {
   "cell_type": "code",
   "execution_count": 15,
   "id": "f813b3a1",
   "metadata": {},
   "outputs": [
    {
     "data": {
      "text/html": [
       "<div>\n",
       "<style scoped>\n",
       "    .dataframe tbody tr th:only-of-type {\n",
       "        vertical-align: middle;\n",
       "    }\n",
       "\n",
       "    .dataframe tbody tr th {\n",
       "        vertical-align: top;\n",
       "    }\n",
       "\n",
       "    .dataframe thead th {\n",
       "        text-align: right;\n",
       "    }\n",
       "</style>\n",
       "<table border=\"1\" class=\"dataframe\">\n",
       "  <thead>\n",
       "    <tr style=\"text-align: right;\">\n",
       "      <th></th>\n",
       "      <th>Profile</th>\n",
       "      <th>Player</th>\n",
       "      <th>Year</th>\n",
       "      <th>Points_average</th>\n",
       "    </tr>\n",
       "  </thead>\n",
       "  <tbody>\n",
       "    <tr>\n",
       "      <th>0</th>\n",
       "      <td>https://en.khl.ru/players/13714/</td>\n",
       "      <td>Vitaly Anikeyenko</td>\n",
       "      <td>2010/2011</td>\n",
       "      <td>1.081731</td>\n",
       "    </tr>\n",
       "    <tr>\n",
       "      <th>1</th>\n",
       "      <td>https://en.khl.ru/players/13714/</td>\n",
       "      <td>Vitaly Anikeyenko</td>\n",
       "      <td>2009/2010</td>\n",
       "      <td>0.965262</td>\n",
       "    </tr>\n",
       "    <tr>\n",
       "      <th>2</th>\n",
       "      <td>https://en.khl.ru/players/13714/</td>\n",
       "      <td>Vitaly Anikeyenko</td>\n",
       "      <td>2008/2009</td>\n",
       "      <td>0.968610</td>\n",
       "    </tr>\n",
       "    <tr>\n",
       "      <th>3</th>\n",
       "      <td>https://en.khl.ru/players/14763/</td>\n",
       "      <td>Sergei Andronov</td>\n",
       "      <td>2020/2021</td>\n",
       "      <td>1.811594</td>\n",
       "    </tr>\n",
       "    <tr>\n",
       "      <th>4</th>\n",
       "      <td>https://en.khl.ru/players/14763/</td>\n",
       "      <td>Sergei Andronov</td>\n",
       "      <td>2018/2019</td>\n",
       "      <td>1.013514</td>\n",
       "    </tr>\n",
       "  </tbody>\n",
       "</table>\n",
       "</div>"
      ],
      "text/plain": [
       "                            Profile             Player       Year  \\\n",
       "0  https://en.khl.ru/players/13714/  Vitaly Anikeyenko  2010/2011   \n",
       "1  https://en.khl.ru/players/13714/  Vitaly Anikeyenko  2009/2010   \n",
       "2  https://en.khl.ru/players/13714/  Vitaly Anikeyenko  2008/2009   \n",
       "3  https://en.khl.ru/players/14763/    Sergei Andronov  2020/2021   \n",
       "4  https://en.khl.ru/players/14763/    Sergei Andronov  2018/2019   \n",
       "\n",
       "   Points_average  \n",
       "0        1.081731  \n",
       "1        0.965262  \n",
       "2        0.968610  \n",
       "3        1.811594  \n",
       "4        1.013514  "
      ]
     },
     "execution_count": 15,
     "metadata": {},
     "output_type": "execute_result"
    }
   ],
   "source": [
    "# We can drop all unnecessary columns now.\n",
    "drop_list = ['Season', 'Team', 'Games', 'Points', 'Icetime_game_seconds', 'Icetime']\n",
    "data.drop(drop_list, axis=1, inplace=True)\n",
    "data.reset_index(drop=True, inplace=True)\n",
    "data.head()"
   ]
  },
  {
   "cell_type": "markdown",
   "id": "dcd4a809",
   "metadata": {},
   "source": [
    "We now need to add the year/team/points data from the past two years to the dataframe. The simplest way to do this is by adding shifted versions of the same columns with different column names. However, a row above does not necessarily contain the data for the same player. To account for that, we are going to include both past profile and player name in the output dataframe and check that they remain the same."
   ]
  },
  {
   "cell_type": "code",
   "execution_count": 16,
   "id": "972956f7",
   "metadata": {},
   "outputs": [
    {
     "data": {
      "text/html": [
       "<div>\n",
       "<style scoped>\n",
       "    .dataframe tbody tr th:only-of-type {\n",
       "        vertical-align: middle;\n",
       "    }\n",
       "\n",
       "    .dataframe tbody tr th {\n",
       "        vertical-align: top;\n",
       "    }\n",
       "\n",
       "    .dataframe thead th {\n",
       "        text-align: right;\n",
       "    }\n",
       "</style>\n",
       "<table border=\"1\" class=\"dataframe\">\n",
       "  <thead>\n",
       "    <tr style=\"text-align: right;\">\n",
       "      <th></th>\n",
       "      <th>Profile</th>\n",
       "      <th>Player</th>\n",
       "      <th>Year</th>\n",
       "      <th>Points</th>\n",
       "      <th>T1_Profile</th>\n",
       "      <th>T1_Points</th>\n",
       "      <th>T2_Profile</th>\n",
       "      <th>T2_Points</th>\n",
       "    </tr>\n",
       "  </thead>\n",
       "  <tbody>\n",
       "    <tr>\n",
       "      <th>0</th>\n",
       "      <td>https://en.khl.ru/players/13714/</td>\n",
       "      <td>Vitaly Anikeyenko</td>\n",
       "      <td>2010/2011</td>\n",
       "      <td>1.081731</td>\n",
       "      <td>https://en.khl.ru/players/13714/</td>\n",
       "      <td>0.965262</td>\n",
       "      <td>https://en.khl.ru/players/13714/</td>\n",
       "      <td>0.968610</td>\n",
       "    </tr>\n",
       "    <tr>\n",
       "      <th>1</th>\n",
       "      <td>https://en.khl.ru/players/13714/</td>\n",
       "      <td>Vitaly Anikeyenko</td>\n",
       "      <td>2009/2010</td>\n",
       "      <td>0.965262</td>\n",
       "      <td>https://en.khl.ru/players/13714/</td>\n",
       "      <td>0.968610</td>\n",
       "      <td>https://en.khl.ru/players/14763/</td>\n",
       "      <td>1.811594</td>\n",
       "    </tr>\n",
       "    <tr>\n",
       "      <th>2</th>\n",
       "      <td>https://en.khl.ru/players/13714/</td>\n",
       "      <td>Vitaly Anikeyenko</td>\n",
       "      <td>2008/2009</td>\n",
       "      <td>0.968610</td>\n",
       "      <td>https://en.khl.ru/players/14763/</td>\n",
       "      <td>1.811594</td>\n",
       "      <td>https://en.khl.ru/players/14763/</td>\n",
       "      <td>1.013514</td>\n",
       "    </tr>\n",
       "    <tr>\n",
       "      <th>3</th>\n",
       "      <td>https://en.khl.ru/players/14763/</td>\n",
       "      <td>Sergei Andronov</td>\n",
       "      <td>2020/2021</td>\n",
       "      <td>1.811594</td>\n",
       "      <td>https://en.khl.ru/players/14763/</td>\n",
       "      <td>1.013514</td>\n",
       "      <td>https://en.khl.ru/players/14763/</td>\n",
       "      <td>0.798509</td>\n",
       "    </tr>\n",
       "    <tr>\n",
       "      <th>4</th>\n",
       "      <td>https://en.khl.ru/players/14763/</td>\n",
       "      <td>Sergei Andronov</td>\n",
       "      <td>2018/2019</td>\n",
       "      <td>1.013514</td>\n",
       "      <td>https://en.khl.ru/players/14763/</td>\n",
       "      <td>0.798509</td>\n",
       "      <td>https://en.khl.ru/players/14763/</td>\n",
       "      <td>0.952822</td>\n",
       "    </tr>\n",
       "  </tbody>\n",
       "</table>\n",
       "</div>"
      ],
      "text/plain": [
       "                            Profile             Player       Year    Points  \\\n",
       "0  https://en.khl.ru/players/13714/  Vitaly Anikeyenko  2010/2011  1.081731   \n",
       "1  https://en.khl.ru/players/13714/  Vitaly Anikeyenko  2009/2010  0.965262   \n",
       "2  https://en.khl.ru/players/13714/  Vitaly Anikeyenko  2008/2009  0.968610   \n",
       "3  https://en.khl.ru/players/14763/    Sergei Andronov  2020/2021  1.811594   \n",
       "4  https://en.khl.ru/players/14763/    Sergei Andronov  2018/2019  1.013514   \n",
       "\n",
       "                         T1_Profile  T1_Points  \\\n",
       "0  https://en.khl.ru/players/13714/   0.965262   \n",
       "1  https://en.khl.ru/players/13714/   0.968610   \n",
       "2  https://en.khl.ru/players/14763/   1.811594   \n",
       "3  https://en.khl.ru/players/14763/   1.013514   \n",
       "4  https://en.khl.ru/players/14763/   0.798509   \n",
       "\n",
       "                         T2_Profile  T2_Points  \n",
       "0  https://en.khl.ru/players/13714/   0.968610  \n",
       "1  https://en.khl.ru/players/14763/   1.811594  \n",
       "2  https://en.khl.ru/players/14763/   1.013514  \n",
       "3  https://en.khl.ru/players/14763/   0.798509  \n",
       "4  https://en.khl.ru/players/14763/   0.952822  "
      ]
     },
     "execution_count": 16,
     "metadata": {},
     "output_type": "execute_result"
    }
   ],
   "source": [
    "# The rows are going to be shifted down.\n",
    "# All columns are getting a T_ prefix indicating their timeshift relative to the current period.\n",
    "header = ['Profile', 'Player', 'Year', 'Points']\n",
    "data.columns = header\n",
    "\n",
    "data[['T1_Profile', 'T1_Points']] = data[['Profile', 'Points']].shift(-1)\n",
    "data[['T2_Profile', 'T2_Points']] = data[['Profile', 'Points']].shift(-2)\n",
    "data.head()"
   ]
  },
  {
   "cell_type": "code",
   "execution_count": 17,
   "id": "609d46ae",
   "metadata": {},
   "outputs": [
    {
     "data": {
      "text/html": [
       "<div>\n",
       "<style scoped>\n",
       "    .dataframe tbody tr th:only-of-type {\n",
       "        vertical-align: middle;\n",
       "    }\n",
       "\n",
       "    .dataframe tbody tr th {\n",
       "        vertical-align: top;\n",
       "    }\n",
       "\n",
       "    .dataframe thead th {\n",
       "        text-align: right;\n",
       "    }\n",
       "</style>\n",
       "<table border=\"1\" class=\"dataframe\">\n",
       "  <thead>\n",
       "    <tr style=\"text-align: right;\">\n",
       "      <th></th>\n",
       "      <th>Profile</th>\n",
       "      <th>Player</th>\n",
       "      <th>Year</th>\n",
       "      <th>Points</th>\n",
       "      <th>T1_Profile</th>\n",
       "      <th>T1_Points</th>\n",
       "      <th>T2_Profile</th>\n",
       "      <th>T2_Points</th>\n",
       "    </tr>\n",
       "  </thead>\n",
       "  <tbody>\n",
       "    <tr>\n",
       "      <th>3849</th>\n",
       "      <td>https://en.khl.ru/players/13679/</td>\n",
       "      <td>Mikhail Zhukov</td>\n",
       "      <td>2011/2012</td>\n",
       "      <td>1.307770</td>\n",
       "      <td>https://en.khl.ru/players/13679/</td>\n",
       "      <td>1.075269</td>\n",
       "      <td>https://en.khl.ru/players/13679/</td>\n",
       "      <td>0.978648</td>\n",
       "    </tr>\n",
       "    <tr>\n",
       "      <th>3850</th>\n",
       "      <td>https://en.khl.ru/players/13679/</td>\n",
       "      <td>Mikhail Zhukov</td>\n",
       "      <td>2010/2011</td>\n",
       "      <td>1.075269</td>\n",
       "      <td>https://en.khl.ru/players/13679/</td>\n",
       "      <td>0.978648</td>\n",
       "      <td>https://en.khl.ru/players/18900/</td>\n",
       "      <td>0.644607</td>\n",
       "    </tr>\n",
       "    <tr>\n",
       "      <th>3851</th>\n",
       "      <td>https://en.khl.ru/players/13679/</td>\n",
       "      <td>Mikhail Zhukov</td>\n",
       "      <td>2009/2010</td>\n",
       "      <td>0.978648</td>\n",
       "      <td>https://en.khl.ru/players/18900/</td>\n",
       "      <td>0.644607</td>\n",
       "      <td>https://en.khl.ru/players/5714/</td>\n",
       "      <td>1.997780</td>\n",
       "    </tr>\n",
       "    <tr>\n",
       "      <th>3852</th>\n",
       "      <td>https://en.khl.ru/players/18900/</td>\n",
       "      <td>Artyom Zub</td>\n",
       "      <td>2016/2017</td>\n",
       "      <td>0.644607</td>\n",
       "      <td>https://en.khl.ru/players/5714/</td>\n",
       "      <td>1.997780</td>\n",
       "      <td>NaN</td>\n",
       "      <td>NaN</td>\n",
       "    </tr>\n",
       "    <tr>\n",
       "      <th>3853</th>\n",
       "      <td>https://en.khl.ru/players/5714/</td>\n",
       "      <td>Stanislav Zhmakin</td>\n",
       "      <td>2012/2013</td>\n",
       "      <td>1.997780</td>\n",
       "      <td>NaN</td>\n",
       "      <td>NaN</td>\n",
       "      <td>NaN</td>\n",
       "      <td>NaN</td>\n",
       "    </tr>\n",
       "  </tbody>\n",
       "</table>\n",
       "</div>"
      ],
      "text/plain": [
       "                               Profile             Player       Year  \\\n",
       "3849  https://en.khl.ru/players/13679/     Mikhail Zhukov  2011/2012   \n",
       "3850  https://en.khl.ru/players/13679/     Mikhail Zhukov  2010/2011   \n",
       "3851  https://en.khl.ru/players/13679/     Mikhail Zhukov  2009/2010   \n",
       "3852  https://en.khl.ru/players/18900/         Artyom Zub  2016/2017   \n",
       "3853   https://en.khl.ru/players/5714/  Stanislav Zhmakin  2012/2013   \n",
       "\n",
       "        Points                        T1_Profile  T1_Points  \\\n",
       "3849  1.307770  https://en.khl.ru/players/13679/   1.075269   \n",
       "3850  1.075269  https://en.khl.ru/players/13679/   0.978648   \n",
       "3851  0.978648  https://en.khl.ru/players/18900/   0.644607   \n",
       "3852  0.644607   https://en.khl.ru/players/5714/   1.997780   \n",
       "3853  1.997780                               NaN        NaN   \n",
       "\n",
       "                            T2_Profile  T2_Points  \n",
       "3849  https://en.khl.ru/players/13679/   0.978648  \n",
       "3850  https://en.khl.ru/players/18900/   0.644607  \n",
       "3851   https://en.khl.ru/players/5714/   1.997780  \n",
       "3852                               NaN        NaN  \n",
       "3853                               NaN        NaN  "
      ]
     },
     "execution_count": 17,
     "metadata": {},
     "output_type": "execute_result"
    }
   ],
   "source": [
    "data.tail(5)"
   ]
  },
  {
   "cell_type": "markdown",
   "id": "76f4d5dd",
   "metadata": {},
   "source": [
    "We are also encountering another issue here. Since some players have changed teams during the season, we are getting observations where the last time period our of three would be season 2009/2010. And, what is worse, some players have even played for three teams in season 2008/2009. Not only do those seasons have few observations, they are not representative as only the players who have changed teams can have either of their seasons as the latest of the three. Therefore, let us drop them."
   ]
  },
  {
   "cell_type": "code",
   "execution_count": 18,
   "id": "aae1dfcf",
   "metadata": {},
   "outputs": [
    {
     "data": {
      "text/html": [
       "<div>\n",
       "<style scoped>\n",
       "    .dataframe tbody tr th:only-of-type {\n",
       "        vertical-align: middle;\n",
       "    }\n",
       "\n",
       "    .dataframe tbody tr th {\n",
       "        vertical-align: top;\n",
       "    }\n",
       "\n",
       "    .dataframe thead th {\n",
       "        text-align: right;\n",
       "    }\n",
       "</style>\n",
       "<table border=\"1\" class=\"dataframe\">\n",
       "  <thead>\n",
       "    <tr style=\"text-align: right;\">\n",
       "      <th></th>\n",
       "      <th>Profile</th>\n",
       "      <th>Player</th>\n",
       "      <th>Year</th>\n",
       "      <th>Points</th>\n",
       "      <th>T1_Profile</th>\n",
       "      <th>T1_Points</th>\n",
       "      <th>T2_Profile</th>\n",
       "      <th>T2_Points</th>\n",
       "    </tr>\n",
       "  </thead>\n",
       "  <tbody>\n",
       "    <tr>\n",
       "      <th>0</th>\n",
       "      <td>https://en.khl.ru/players/13714/</td>\n",
       "      <td>Vitaly Anikeyenko</td>\n",
       "      <td>2010/2011</td>\n",
       "      <td>1.081731</td>\n",
       "      <td>https://en.khl.ru/players/13714/</td>\n",
       "      <td>0.965262</td>\n",
       "      <td>https://en.khl.ru/players/13714/</td>\n",
       "      <td>0.968610</td>\n",
       "    </tr>\n",
       "    <tr>\n",
       "      <th>1</th>\n",
       "      <td>https://en.khl.ru/players/14763/</td>\n",
       "      <td>Sergei Andronov</td>\n",
       "      <td>2020/2021</td>\n",
       "      <td>1.811594</td>\n",
       "      <td>https://en.khl.ru/players/14763/</td>\n",
       "      <td>1.013514</td>\n",
       "      <td>https://en.khl.ru/players/14763/</td>\n",
       "      <td>0.798509</td>\n",
       "    </tr>\n",
       "    <tr>\n",
       "      <th>2</th>\n",
       "      <td>https://en.khl.ru/players/14763/</td>\n",
       "      <td>Sergei Andronov</td>\n",
       "      <td>2018/2019</td>\n",
       "      <td>1.013514</td>\n",
       "      <td>https://en.khl.ru/players/14763/</td>\n",
       "      <td>0.798509</td>\n",
       "      <td>https://en.khl.ru/players/14763/</td>\n",
       "      <td>0.952822</td>\n",
       "    </tr>\n",
       "    <tr>\n",
       "      <th>3</th>\n",
       "      <td>https://en.khl.ru/players/14763/</td>\n",
       "      <td>Sergei Andronov</td>\n",
       "      <td>2016/2017</td>\n",
       "      <td>0.798509</td>\n",
       "      <td>https://en.khl.ru/players/14763/</td>\n",
       "      <td>0.952822</td>\n",
       "      <td>https://en.khl.ru/players/14763/</td>\n",
       "      <td>1.061947</td>\n",
       "    </tr>\n",
       "    <tr>\n",
       "      <th>4</th>\n",
       "      <td>https://en.khl.ru/players/14763/</td>\n",
       "      <td>Sergei Andronov</td>\n",
       "      <td>2015/2016</td>\n",
       "      <td>0.952822</td>\n",
       "      <td>https://en.khl.ru/players/14763/</td>\n",
       "      <td>1.061947</td>\n",
       "      <td>https://en.khl.ru/players/14763/</td>\n",
       "      <td>1.159191</td>\n",
       "    </tr>\n",
       "  </tbody>\n",
       "</table>\n",
       "</div>"
      ],
      "text/plain": [
       "                            Profile             Player       Year    Points  \\\n",
       "0  https://en.khl.ru/players/13714/  Vitaly Anikeyenko  2010/2011  1.081731   \n",
       "1  https://en.khl.ru/players/14763/    Sergei Andronov  2020/2021  1.811594   \n",
       "2  https://en.khl.ru/players/14763/    Sergei Andronov  2018/2019  1.013514   \n",
       "3  https://en.khl.ru/players/14763/    Sergei Andronov  2016/2017  0.798509   \n",
       "4  https://en.khl.ru/players/14763/    Sergei Andronov  2015/2016  0.952822   \n",
       "\n",
       "                         T1_Profile  T1_Points  \\\n",
       "0  https://en.khl.ru/players/13714/   0.965262   \n",
       "1  https://en.khl.ru/players/14763/   1.013514   \n",
       "2  https://en.khl.ru/players/14763/   0.798509   \n",
       "3  https://en.khl.ru/players/14763/   0.952822   \n",
       "4  https://en.khl.ru/players/14763/   1.061947   \n",
       "\n",
       "                         T2_Profile  T2_Points  \n",
       "0  https://en.khl.ru/players/13714/   0.968610  \n",
       "1  https://en.khl.ru/players/14763/   0.798509  \n",
       "2  https://en.khl.ru/players/14763/   0.952822  \n",
       "3  https://en.khl.ru/players/14763/   1.061947  \n",
       "4  https://en.khl.ru/players/14763/   1.159191  "
      ]
     },
     "execution_count": 18,
     "metadata": {},
     "output_type": "execute_result"
    }
   ],
   "source": [
    "# Now dropping the rows which contain data for different players in them.\n",
    "data = data[(data['Profile'] == data['T1_Profile']) & (data['Profile'] == data['T2_Profile'])]\n",
    "data.reset_index(drop=True, inplace=True)\n",
    "data.head()"
   ]
  },
  {
   "cell_type": "code",
   "execution_count": 19,
   "id": "b5e59131",
   "metadata": {},
   "outputs": [
    {
     "data": {
      "text/html": [
       "<div>\n",
       "<style scoped>\n",
       "    .dataframe tbody tr th:only-of-type {\n",
       "        vertical-align: middle;\n",
       "    }\n",
       "\n",
       "    .dataframe tbody tr th {\n",
       "        vertical-align: top;\n",
       "    }\n",
       "\n",
       "    .dataframe thead th {\n",
       "        text-align: right;\n",
       "    }\n",
       "</style>\n",
       "<table border=\"1\" class=\"dataframe\">\n",
       "  <thead>\n",
       "    <tr style=\"text-align: right;\">\n",
       "      <th></th>\n",
       "      <th>Profile</th>\n",
       "      <th>Player</th>\n",
       "      <th>Year</th>\n",
       "      <th>Points</th>\n",
       "      <th>T1_Points</th>\n",
       "      <th>T2_Points</th>\n",
       "    </tr>\n",
       "  </thead>\n",
       "  <tbody>\n",
       "    <tr>\n",
       "      <th>0</th>\n",
       "      <td>https://en.khl.ru/players/13714/</td>\n",
       "      <td>Vitaly Anikeyenko</td>\n",
       "      <td>2010/2011</td>\n",
       "      <td>1.081731</td>\n",
       "      <td>0.965262</td>\n",
       "      <td>0.968610</td>\n",
       "    </tr>\n",
       "    <tr>\n",
       "      <th>1</th>\n",
       "      <td>https://en.khl.ru/players/14763/</td>\n",
       "      <td>Sergei Andronov</td>\n",
       "      <td>2020/2021</td>\n",
       "      <td>1.811594</td>\n",
       "      <td>1.013514</td>\n",
       "      <td>0.798509</td>\n",
       "    </tr>\n",
       "    <tr>\n",
       "      <th>2</th>\n",
       "      <td>https://en.khl.ru/players/14763/</td>\n",
       "      <td>Sergei Andronov</td>\n",
       "      <td>2018/2019</td>\n",
       "      <td>1.013514</td>\n",
       "      <td>0.798509</td>\n",
       "      <td>0.952822</td>\n",
       "    </tr>\n",
       "    <tr>\n",
       "      <th>3</th>\n",
       "      <td>https://en.khl.ru/players/14763/</td>\n",
       "      <td>Sergei Andronov</td>\n",
       "      <td>2016/2017</td>\n",
       "      <td>0.798509</td>\n",
       "      <td>0.952822</td>\n",
       "      <td>1.061947</td>\n",
       "    </tr>\n",
       "    <tr>\n",
       "      <th>4</th>\n",
       "      <td>https://en.khl.ru/players/14763/</td>\n",
       "      <td>Sergei Andronov</td>\n",
       "      <td>2015/2016</td>\n",
       "      <td>0.952822</td>\n",
       "      <td>1.061947</td>\n",
       "      <td>1.159191</td>\n",
       "    </tr>\n",
       "  </tbody>\n",
       "</table>\n",
       "</div>"
      ],
      "text/plain": [
       "                            Profile             Player       Year    Points  \\\n",
       "0  https://en.khl.ru/players/13714/  Vitaly Anikeyenko  2010/2011  1.081731   \n",
       "1  https://en.khl.ru/players/14763/    Sergei Andronov  2020/2021  1.811594   \n",
       "2  https://en.khl.ru/players/14763/    Sergei Andronov  2018/2019  1.013514   \n",
       "3  https://en.khl.ru/players/14763/    Sergei Andronov  2016/2017  0.798509   \n",
       "4  https://en.khl.ru/players/14763/    Sergei Andronov  2015/2016  0.952822   \n",
       "\n",
       "   T1_Points  T2_Points  \n",
       "0   0.965262   0.968610  \n",
       "1   1.013514   0.798509  \n",
       "2   0.798509   0.952822  \n",
       "3   0.952822   1.061947  \n",
       "4   1.061947   1.159191  "
      ]
     },
     "execution_count": 19,
     "metadata": {},
     "output_type": "execute_result"
    }
   ],
   "source": [
    "# Everything seems in order, we can drop the duplicate columns now.\n",
    "data.drop(['T1_Profile', 'T2_Profile'], axis=1, inplace=True)\n",
    "data.head()"
   ]
  },
  {
   "cell_type": "code",
   "execution_count": 20,
   "id": "b166e619",
   "metadata": {},
   "outputs": [
    {
     "data": {
      "text/html": [
       "<div>\n",
       "<style scoped>\n",
       "    .dataframe tbody tr th:only-of-type {\n",
       "        vertical-align: middle;\n",
       "    }\n",
       "\n",
       "    .dataframe tbody tr th {\n",
       "        vertical-align: top;\n",
       "    }\n",
       "\n",
       "    .dataframe thead th {\n",
       "        text-align: right;\n",
       "    }\n",
       "</style>\n",
       "<table border=\"1\" class=\"dataframe\">\n",
       "  <thead>\n",
       "    <tr style=\"text-align: right;\">\n",
       "      <th></th>\n",
       "      <th>Points</th>\n",
       "      <th>T1_Points</th>\n",
       "      <th>T2_Points</th>\n",
       "      <th>Year_2011/2012</th>\n",
       "      <th>Year_2012/2013</th>\n",
       "      <th>Year_2013/2014</th>\n",
       "      <th>Year_2014/2015</th>\n",
       "      <th>Year_2015/2016</th>\n",
       "      <th>Year_2016/2017</th>\n",
       "      <th>Year_2017/2018</th>\n",
       "      <th>Year_2018/2019</th>\n",
       "      <th>Year_2019/2020</th>\n",
       "      <th>Year_2020/2021</th>\n",
       "    </tr>\n",
       "  </thead>\n",
       "  <tbody>\n",
       "    <tr>\n",
       "      <th>0</th>\n",
       "      <td>1.081731</td>\n",
       "      <td>0.965262</td>\n",
       "      <td>0.968610</td>\n",
       "      <td>0</td>\n",
       "      <td>0</td>\n",
       "      <td>0</td>\n",
       "      <td>0</td>\n",
       "      <td>0</td>\n",
       "      <td>0</td>\n",
       "      <td>0</td>\n",
       "      <td>0</td>\n",
       "      <td>0</td>\n",
       "      <td>0</td>\n",
       "    </tr>\n",
       "    <tr>\n",
       "      <th>1</th>\n",
       "      <td>1.811594</td>\n",
       "      <td>1.013514</td>\n",
       "      <td>0.798509</td>\n",
       "      <td>0</td>\n",
       "      <td>0</td>\n",
       "      <td>0</td>\n",
       "      <td>0</td>\n",
       "      <td>0</td>\n",
       "      <td>0</td>\n",
       "      <td>0</td>\n",
       "      <td>0</td>\n",
       "      <td>0</td>\n",
       "      <td>1</td>\n",
       "    </tr>\n",
       "    <tr>\n",
       "      <th>2</th>\n",
       "      <td>1.013514</td>\n",
       "      <td>0.798509</td>\n",
       "      <td>0.952822</td>\n",
       "      <td>0</td>\n",
       "      <td>0</td>\n",
       "      <td>0</td>\n",
       "      <td>0</td>\n",
       "      <td>0</td>\n",
       "      <td>0</td>\n",
       "      <td>0</td>\n",
       "      <td>1</td>\n",
       "      <td>0</td>\n",
       "      <td>0</td>\n",
       "    </tr>\n",
       "    <tr>\n",
       "      <th>3</th>\n",
       "      <td>0.798509</td>\n",
       "      <td>0.952822</td>\n",
       "      <td>1.061947</td>\n",
       "      <td>0</td>\n",
       "      <td>0</td>\n",
       "      <td>0</td>\n",
       "      <td>0</td>\n",
       "      <td>0</td>\n",
       "      <td>1</td>\n",
       "      <td>0</td>\n",
       "      <td>0</td>\n",
       "      <td>0</td>\n",
       "      <td>0</td>\n",
       "    </tr>\n",
       "    <tr>\n",
       "      <th>4</th>\n",
       "      <td>0.952822</td>\n",
       "      <td>1.061947</td>\n",
       "      <td>1.159191</td>\n",
       "      <td>0</td>\n",
       "      <td>0</td>\n",
       "      <td>0</td>\n",
       "      <td>0</td>\n",
       "      <td>1</td>\n",
       "      <td>0</td>\n",
       "      <td>0</td>\n",
       "      <td>0</td>\n",
       "      <td>0</td>\n",
       "      <td>0</td>\n",
       "    </tr>\n",
       "  </tbody>\n",
       "</table>\n",
       "</div>"
      ],
      "text/plain": [
       "     Points  T1_Points  T2_Points  Year_2011/2012  Year_2012/2013  \\\n",
       "0  1.081731   0.965262   0.968610               0               0   \n",
       "1  1.811594   1.013514   0.798509               0               0   \n",
       "2  1.013514   0.798509   0.952822               0               0   \n",
       "3  0.798509   0.952822   1.061947               0               0   \n",
       "4  0.952822   1.061947   1.159191               0               0   \n",
       "\n",
       "   Year_2013/2014  Year_2014/2015  Year_2015/2016  Year_2016/2017  \\\n",
       "0               0               0               0               0   \n",
       "1               0               0               0               0   \n",
       "2               0               0               0               0   \n",
       "3               0               0               0               1   \n",
       "4               0               0               1               0   \n",
       "\n",
       "   Year_2017/2018  Year_2018/2019  Year_2019/2020  Year_2020/2021  \n",
       "0               0               0               0               0  \n",
       "1               0               0               0               1  \n",
       "2               0               1               0               0  \n",
       "3               0               0               0               0  \n",
       "4               0               0               0               0  "
      ]
     },
     "execution_count": 20,
     "metadata": {},
     "output_type": "execute_result"
    }
   ],
   "source": [
    "# We can now get dummies for our years and teams.\n",
    "dummies = data.copy()\n",
    "dummies.drop(['Profile', 'Player'], axis=1, inplace=True)\n",
    "dummies = pd.get_dummies(dummies, drop_first=True)\n",
    "dummies.head()"
   ]
  },
  {
   "cell_type": "markdown",
   "id": "13d0cc79",
   "metadata": {},
   "source": [
    "We can now try fitting Machine Learning models on that prepared data. Let us first start with a simple linear regression before moving to random forests and boosted trees."
   ]
  },
  {
   "cell_type": "code",
   "execution_count": 21,
   "id": "056b048e",
   "metadata": {},
   "outputs": [],
   "source": [
    "from sklearn.model_selection import train_test_split"
   ]
  },
  {
   "cell_type": "code",
   "execution_count": 22,
   "id": "f1ec2ae1",
   "metadata": {},
   "outputs": [],
   "source": [
    "# We are trying to predict how many points a player gets this new season based off everything else.\n",
    "y = dummies['Points'].copy()\n",
    "X = dummies.drop('Points', axis=1).copy()\n",
    "X_train, X_test, y_train, y_test = train_test_split(X, y, test_size=0.3, random_state=42)"
   ]
  },
  {
   "cell_type": "markdown",
   "id": "8606203f",
   "metadata": {},
   "source": [
    "What if we just assumed the player is going to get the exact same amount of points per hour of icetime as the last season? We need something to compare our predictions with after all."
   ]
  },
  {
   "cell_type": "code",
   "execution_count": 23,
   "id": "28219bd9",
   "metadata": {},
   "outputs": [],
   "source": [
    "from sklearn.metrics import mean_squared_error, mean_absolute_error, r2_score"
   ]
  },
  {
   "cell_type": "code",
   "execution_count": 24,
   "id": "27162fba",
   "metadata": {},
   "outputs": [
    {
     "data": {
      "text/html": [
       "<div>\n",
       "<style scoped>\n",
       "    .dataframe tbody tr th:only-of-type {\n",
       "        vertical-align: middle;\n",
       "    }\n",
       "\n",
       "    .dataframe tbody tr th {\n",
       "        vertical-align: top;\n",
       "    }\n",
       "\n",
       "    .dataframe thead th {\n",
       "        text-align: right;\n",
       "    }\n",
       "</style>\n",
       "<table border=\"1\" class=\"dataframe\">\n",
       "  <thead>\n",
       "    <tr style=\"text-align: right;\">\n",
       "      <th></th>\n",
       "      <th>T1_Points</th>\n",
       "      <th>T2_Points</th>\n",
       "      <th>Year_2011/2012</th>\n",
       "      <th>Year_2012/2013</th>\n",
       "      <th>Year_2013/2014</th>\n",
       "      <th>Year_2014/2015</th>\n",
       "      <th>Year_2015/2016</th>\n",
       "      <th>Year_2016/2017</th>\n",
       "      <th>Year_2017/2018</th>\n",
       "      <th>Year_2018/2019</th>\n",
       "      <th>Year_2019/2020</th>\n",
       "      <th>Year_2020/2021</th>\n",
       "    </tr>\n",
       "  </thead>\n",
       "  <tbody>\n",
       "    <tr>\n",
       "      <th>1957</th>\n",
       "      <td>0.784570</td>\n",
       "      <td>1.274404</td>\n",
       "      <td>0</td>\n",
       "      <td>0</td>\n",
       "      <td>0</td>\n",
       "      <td>0</td>\n",
       "      <td>0</td>\n",
       "      <td>0</td>\n",
       "      <td>0</td>\n",
       "      <td>0</td>\n",
       "      <td>1</td>\n",
       "      <td>0</td>\n",
       "    </tr>\n",
       "    <tr>\n",
       "      <th>69</th>\n",
       "      <td>2.666776</td>\n",
       "      <td>2.854444</td>\n",
       "      <td>0</td>\n",
       "      <td>0</td>\n",
       "      <td>0</td>\n",
       "      <td>0</td>\n",
       "      <td>0</td>\n",
       "      <td>0</td>\n",
       "      <td>0</td>\n",
       "      <td>0</td>\n",
       "      <td>1</td>\n",
       "      <td>0</td>\n",
       "    </tr>\n",
       "    <tr>\n",
       "      <th>1569</th>\n",
       "      <td>1.099148</td>\n",
       "      <td>0.919916</td>\n",
       "      <td>0</td>\n",
       "      <td>0</td>\n",
       "      <td>0</td>\n",
       "      <td>0</td>\n",
       "      <td>1</td>\n",
       "      <td>0</td>\n",
       "      <td>0</td>\n",
       "      <td>0</td>\n",
       "      <td>0</td>\n",
       "      <td>0</td>\n",
       "    </tr>\n",
       "    <tr>\n",
       "      <th>1829</th>\n",
       "      <td>1.834650</td>\n",
       "      <td>1.257360</td>\n",
       "      <td>0</td>\n",
       "      <td>0</td>\n",
       "      <td>0</td>\n",
       "      <td>0</td>\n",
       "      <td>0</td>\n",
       "      <td>0</td>\n",
       "      <td>0</td>\n",
       "      <td>0</td>\n",
       "      <td>0</td>\n",
       "      <td>1</td>\n",
       "    </tr>\n",
       "    <tr>\n",
       "      <th>2061</th>\n",
       "      <td>1.340657</td>\n",
       "      <td>1.111626</td>\n",
       "      <td>0</td>\n",
       "      <td>0</td>\n",
       "      <td>0</td>\n",
       "      <td>0</td>\n",
       "      <td>0</td>\n",
       "      <td>0</td>\n",
       "      <td>1</td>\n",
       "      <td>0</td>\n",
       "      <td>0</td>\n",
       "      <td>0</td>\n",
       "    </tr>\n",
       "  </tbody>\n",
       "</table>\n",
       "</div>"
      ],
      "text/plain": [
       "      T1_Points  T2_Points  Year_2011/2012  Year_2012/2013  Year_2013/2014  \\\n",
       "1957   0.784570   1.274404               0               0               0   \n",
       "69     2.666776   2.854444               0               0               0   \n",
       "1569   1.099148   0.919916               0               0               0   \n",
       "1829   1.834650   1.257360               0               0               0   \n",
       "2061   1.340657   1.111626               0               0               0   \n",
       "\n",
       "      Year_2014/2015  Year_2015/2016  Year_2016/2017  Year_2017/2018  \\\n",
       "1957               0               0               0               0   \n",
       "69                 0               0               0               0   \n",
       "1569               0               1               0               0   \n",
       "1829               0               0               0               0   \n",
       "2061               0               0               0               1   \n",
       "\n",
       "      Year_2018/2019  Year_2019/2020  Year_2020/2021  \n",
       "1957               0               1               0  \n",
       "69                 0               1               0  \n",
       "1569               0               0               0  \n",
       "1829               0               0               1  \n",
       "2061               0               0               0  "
      ]
     },
     "execution_count": 24,
     "metadata": {},
     "output_type": "execute_result"
    }
   ],
   "source": [
    "X_test.head()"
   ]
  },
  {
   "cell_type": "code",
   "execution_count": 25,
   "id": "88289096",
   "metadata": {},
   "outputs": [],
   "source": [
    "y_pred = X_test['T1_Points']"
   ]
  },
  {
   "cell_type": "code",
   "execution_count": 26,
   "id": "bcc5c360",
   "metadata": {},
   "outputs": [
    {
     "name": "stdout",
     "output_type": "stream",
     "text": [
      "MSE: 0.3401131138844841\n",
      "RMSE: 0.5831921757744046\n",
      "MAE: 0.43369554694049967\n",
      "R_squared: 0.2659583663658337\n"
     ]
    }
   ],
   "source": [
    "print('MSE:', mean_squared_error(y_pred, y_test, squared=True))\n",
    "print('RMSE:', mean_squared_error(y_pred, y_test, squared=False))\n",
    "print('MAE:', mean_absolute_error(y_pred, y_test))\n",
    "print('R_squared:', r2_score(y_pred, y_test))"
   ]
  },
  {
   "cell_type": "markdown",
   "id": "181ff3b0",
   "metadata": {},
   "source": [
    "What if we took the average of past two seasons?"
   ]
  },
  {
   "cell_type": "code",
   "execution_count": 27,
   "id": "a7c90226",
   "metadata": {},
   "outputs": [],
   "source": [
    "y_pred = (X_test['T1_Points'] + X_test['T2_Points']) / 2"
   ]
  },
  {
   "cell_type": "code",
   "execution_count": 28,
   "id": "1fa68adf",
   "metadata": {},
   "outputs": [
    {
     "name": "stdout",
     "output_type": "stream",
     "text": [
      "MSE: 0.29116910325423584\n",
      "RMSE: 0.5396008740302742\n",
      "MAE: 0.41088419762000866\n",
      "R_squared: 0.26281835355095984\n"
     ]
    }
   ],
   "source": [
    "print('MSE:', mean_squared_error(y_pred, y_test, squared=True))\n",
    "print('RMSE:', mean_squared_error(y_pred, y_test, squared=False))\n",
    "print('MAE:', mean_absolute_error(y_pred, y_test))\n",
    "print('R_squared:', r2_score(y_pred, y_test))"
   ]
  },
  {
   "cell_type": "code",
   "execution_count": 29,
   "id": "abfbee13",
   "metadata": {},
   "outputs": [],
   "source": [
    "from sklearn.linear_model import LinearRegression"
   ]
  },
  {
   "cell_type": "code",
   "execution_count": 30,
   "id": "76f69b50",
   "metadata": {},
   "outputs": [],
   "source": [
    "linear = LinearRegression(n_jobs=-1)"
   ]
  },
  {
   "cell_type": "code",
   "execution_count": 31,
   "id": "f07c1ec5",
   "metadata": {},
   "outputs": [
    {
     "data": {
      "text/plain": [
       "LinearRegression(n_jobs=-1)"
      ]
     },
     "execution_count": 31,
     "metadata": {},
     "output_type": "execute_result"
    }
   ],
   "source": [
    "linear.fit(X_train, y_train)"
   ]
  },
  {
   "cell_type": "code",
   "execution_count": 32,
   "id": "438c5930",
   "metadata": {},
   "outputs": [],
   "source": [
    "y_pred = linear.predict(X_test)"
   ]
  },
  {
   "cell_type": "code",
   "execution_count": 33,
   "id": "9611b1d4",
   "metadata": {},
   "outputs": [
    {
     "name": "stdout",
     "output_type": "stream",
     "text": [
      "MSE: 0.2517423381087437\n",
      "RMSE: 0.5017393128993818\n",
      "MAE: 0.37994372263195386\n",
      "R_squared: -0.0420037039863832\n"
     ]
    }
   ],
   "source": [
    "print('MSE:', mean_squared_error(y_pred, y_test, squared=True))\n",
    "print('RMSE:', mean_squared_error(y_pred, y_test, squared=False))\n",
    "print('MAE:', mean_absolute_error(y_pred, y_test))\n",
    "print('R_squared:', r2_score(y_pred, y_test))"
   ]
  },
  {
   "cell_type": "code",
   "execution_count": 34,
   "id": "cf3bc599",
   "metadata": {},
   "outputs": [
    {
     "data": {
      "text/html": [
       "<div>\n",
       "<style scoped>\n",
       "    .dataframe tbody tr th:only-of-type {\n",
       "        vertical-align: middle;\n",
       "    }\n",
       "\n",
       "    .dataframe tbody tr th {\n",
       "        vertical-align: top;\n",
       "    }\n",
       "\n",
       "    .dataframe thead th {\n",
       "        text-align: right;\n",
       "    }\n",
       "</style>\n",
       "<table border=\"1\" class=\"dataframe\">\n",
       "  <thead>\n",
       "    <tr style=\"text-align: right;\">\n",
       "      <th></th>\n",
       "      <th>Feature</th>\n",
       "      <th>Coefficient</th>\n",
       "    </tr>\n",
       "  </thead>\n",
       "  <tbody>\n",
       "    <tr>\n",
       "      <th>0</th>\n",
       "      <td>T1_Points</td>\n",
       "      <td>0.434687</td>\n",
       "    </tr>\n",
       "    <tr>\n",
       "      <th>1</th>\n",
       "      <td>T2_Points</td>\n",
       "      <td>0.336126</td>\n",
       "    </tr>\n",
       "    <tr>\n",
       "      <th>2</th>\n",
       "      <td>Year_2011/2012</td>\n",
       "      <td>-0.239408</td>\n",
       "    </tr>\n",
       "    <tr>\n",
       "      <th>3</th>\n",
       "      <td>Year_2012/2013</td>\n",
       "      <td>-0.167032</td>\n",
       "    </tr>\n",
       "    <tr>\n",
       "      <th>4</th>\n",
       "      <td>Year_2013/2014</td>\n",
       "      <td>-0.239824</td>\n",
       "    </tr>\n",
       "    <tr>\n",
       "      <th>5</th>\n",
       "      <td>Year_2014/2015</td>\n",
       "      <td>-0.139833</td>\n",
       "    </tr>\n",
       "    <tr>\n",
       "      <th>6</th>\n",
       "      <td>Year_2015/2016</td>\n",
       "      <td>-0.192558</td>\n",
       "    </tr>\n",
       "    <tr>\n",
       "      <th>7</th>\n",
       "      <td>Year_2016/2017</td>\n",
       "      <td>-0.175809</td>\n",
       "    </tr>\n",
       "    <tr>\n",
       "      <th>8</th>\n",
       "      <td>Year_2017/2018</td>\n",
       "      <td>-0.090273</td>\n",
       "    </tr>\n",
       "    <tr>\n",
       "      <th>9</th>\n",
       "      <td>Year_2018/2019</td>\n",
       "      <td>-0.139391</td>\n",
       "    </tr>\n",
       "    <tr>\n",
       "      <th>10</th>\n",
       "      <td>Year_2019/2020</td>\n",
       "      <td>-0.254552</td>\n",
       "    </tr>\n",
       "    <tr>\n",
       "      <th>11</th>\n",
       "      <td>Year_2020/2021</td>\n",
       "      <td>-0.007586</td>\n",
       "    </tr>\n",
       "  </tbody>\n",
       "</table>\n",
       "</div>"
      ],
      "text/plain": [
       "           Feature  Coefficient\n",
       "0        T1_Points     0.434687\n",
       "1        T2_Points     0.336126\n",
       "2   Year_2011/2012    -0.239408\n",
       "3   Year_2012/2013    -0.167032\n",
       "4   Year_2013/2014    -0.239824\n",
       "5   Year_2014/2015    -0.139833\n",
       "6   Year_2015/2016    -0.192558\n",
       "7   Year_2016/2017    -0.175809\n",
       "8   Year_2017/2018    -0.090273\n",
       "9   Year_2018/2019    -0.139391\n",
       "10  Year_2019/2020    -0.254552\n",
       "11  Year_2020/2021    -0.007586"
      ]
     },
     "execution_count": 34,
     "metadata": {},
     "output_type": "execute_result"
    }
   ],
   "source": [
    "# Getting coefficients in a more readable form.\n",
    "linear_coef = pd.DataFrame(zip(X.columns, linear.coef_))\n",
    "linear_coef.columns = ['Feature', 'Coefficient']\n",
    "linear_coef"
   ]
  },
  {
   "cell_type": "markdown",
   "id": "d0eaa48d",
   "metadata": {},
   "source": [
    "We can still improve on the way coefficients are stored. After all, we have 3 sets of coefficients for three different time periods. Why not give each period its own column?"
   ]
  },
  {
   "cell_type": "markdown",
   "id": "690e5190",
   "metadata": {},
   "source": [
    "We will need to rearrange the columns for sure. More importantly, why are Period 1 year features' coefficients so high? Something is definitely not right in here."
   ]
  },
  {
   "cell_type": "code",
   "execution_count": 35,
   "id": "ddd254d6",
   "metadata": {},
   "outputs": [],
   "source": [
    "import matplotlib.pyplot as plt"
   ]
  },
  {
   "cell_type": "code",
   "execution_count": 36,
   "id": "82e2d344",
   "metadata": {},
   "outputs": [
    {
     "data": {
      "text/plain": [
       "Text(0, 0.5, 'Predicted Points/hour')"
      ]
     },
     "execution_count": 36,
     "metadata": {},
     "output_type": "execute_result"
    },
    {
     "data": {
      "image/png": "[encoded data removed]",
      "text/plain": [
       "<Figure size 432x288 with 1 Axes>"
      ]
     },
     "metadata": {
      "needs_background": "light"
     },
     "output_type": "display_data"
    }
   ],
   "source": [
    "fig, ax = plt.subplots()\n",
    "ax.scatter(y_test, y_pred, edgecolors=(0, 0, 0))\n",
    "ax.plot([y_test.min(), y_test.max()], [y_test.min(), y_test.max()], 'k-', lw=2)\n",
    "ax.set_xlabel('Target Points/hour', size='x-large')\n",
    "ax.set_ylabel('Predicted Points/hour', size='x-large')"
   ]
  },
  {
   "cell_type": "code",
   "execution_count": 37,
   "id": "a5e1bd84",
   "metadata": {},
   "outputs": [],
   "source": [
    "from sklearn.ensemble import RandomForestRegressor"
   ]
  },
  {
   "cell_type": "code",
   "execution_count": 38,
   "id": "1fe5c110",
   "metadata": {},
   "outputs": [],
   "source": [
    "forest = RandomForestRegressor(n_jobs=-1)"
   ]
  },
  {
   "cell_type": "code",
   "execution_count": 39,
   "id": "8126e10b",
   "metadata": {},
   "outputs": [
    {
     "data": {
      "text/plain": [
       "RandomForestRegressor(n_jobs=-1)"
      ]
     },
     "execution_count": 39,
     "metadata": {},
     "output_type": "execute_result"
    }
   ],
   "source": [
    "forest.fit(X_train, y_train)"
   ]
  },
  {
   "cell_type": "code",
   "execution_count": 40,
   "id": "057f53b1",
   "metadata": {},
   "outputs": [],
   "source": [
    "y_pred = forest.predict(X_test)"
   ]
  },
  {
   "cell_type": "code",
   "execution_count": 41,
   "id": "8f556e25",
   "metadata": {},
   "outputs": [
    {
     "name": "stdout",
     "output_type": "stream",
     "text": [
      "MSE: 0.27513488539062664\n",
      "RMSE: 0.5245330164924098\n",
      "MAE: 0.3995701507618436\n",
      "R_squared: -0.08764348790927778\n"
     ]
    }
   ],
   "source": [
    "print('MSE:', mean_squared_error(y_pred, y_test, squared=True))\n",
    "print('RMSE:', mean_squared_error(y_pred, y_test, squared=False))\n",
    "print('MAE:', mean_absolute_error(y_pred, y_test))\n",
    "print('R_squared:', r2_score(y_pred, y_test))"
   ]
  },
  {
   "cell_type": "code",
   "execution_count": 42,
   "id": "d007430b",
   "metadata": {},
   "outputs": [],
   "source": [
    "from sklearn.ensemble import GradientBoostingRegressor"
   ]
  },
  {
   "cell_type": "code",
   "execution_count": 44,
   "id": "e3a1bfea",
   "metadata": {},
   "outputs": [],
   "source": [
    "gradient = GradientBoostingRegressor()"
   ]
  },
  {
   "cell_type": "code",
   "execution_count": 45,
   "id": "90259090",
   "metadata": {},
   "outputs": [
    {
     "data": {
      "text/plain": [
       "GradientBoostingRegressor()"
      ]
     },
     "execution_count": 45,
     "metadata": {},
     "output_type": "execute_result"
    }
   ],
   "source": [
    "gradient.fit(X_train, y_train)"
   ]
  },
  {
   "cell_type": "code",
   "execution_count": 46,
   "id": "30e7e7ec",
   "metadata": {},
   "outputs": [],
   "source": [
    "y_pred = gradient.predict(X_test)"
   ]
  },
  {
   "cell_type": "code",
   "execution_count": 47,
   "id": "532d0fb4",
   "metadata": {},
   "outputs": [
    {
     "name": "stdout",
     "output_type": "stream",
     "text": [
      "MSE: 0.2518060541918944\n",
      "RMSE: 0.50180280408931\n",
      "MAE: 0.3788270982602972\n",
      "R_squared: -0.07764776427078135\n"
     ]
    }
   ],
   "source": [
    "print('MSE:', mean_squared_error(y_pred, y_test, squared=True))\n",
    "print('RMSE:', mean_squared_error(y_pred, y_test, squared=False))\n",
    "print('MAE:', mean_absolute_error(y_pred, y_test))\n",
    "print('R_squared:', r2_score(y_pred, y_test))"
   ]
  },
  {
   "cell_type": "code",
   "execution_count": 48,
   "id": "8b278b79",
   "metadata": {},
   "outputs": [],
   "source": [
    "from sklearn.preprocessing import StandardScaler"
   ]
  },
  {
   "cell_type": "code",
   "execution_count": 49,
   "id": "8f2e0b22",
   "metadata": {},
   "outputs": [],
   "source": [
    "scaler = StandardScaler()"
   ]
  },
  {
   "cell_type": "code",
   "execution_count": 50,
   "id": "89c006f2",
   "metadata": {},
   "outputs": [
    {
     "data": {
      "text/plain": [
       "StandardScaler()"
      ]
     },
     "execution_count": 50,
     "metadata": {},
     "output_type": "execute_result"
    }
   ],
   "source": [
    "scaler.fit(X_train)"
   ]
  },
  {
   "cell_type": "code",
   "execution_count": 51,
   "id": "4c0d4615",
   "metadata": {},
   "outputs": [],
   "source": [
    "X_train_scaled = scaler.transform(X_train)"
   ]
  },
  {
   "cell_type": "code",
   "execution_count": 62,
   "id": "f0a7da85",
   "metadata": {},
   "outputs": [
    {
     "data": {
      "text/plain": [
       "1448"
      ]
     },
     "execution_count": 62,
     "metadata": {},
     "output_type": "execute_result"
    }
   ],
   "source": [
    "len(X_train_scaled)"
   ]
  },
  {
   "cell_type": "code",
   "execution_count": 63,
   "id": "dc64cfa0",
   "metadata": {},
   "outputs": [],
   "source": [
    "X_test_scaled = scaler.transform(X_test)"
   ]
  },
  {
   "cell_type": "code",
   "execution_count": 64,
   "id": "4a97405d",
   "metadata": {},
   "outputs": [
    {
     "data": {
      "text/plain": [
       "LinearRegression(n_jobs=-1)"
      ]
     },
     "execution_count": 64,
     "metadata": {},
     "output_type": "execute_result"
    }
   ],
   "source": [
    "linear.fit(X_train_scaled, y_train)"
   ]
  },
  {
   "cell_type": "code",
   "execution_count": 65,
   "id": "7055e6e6",
   "metadata": {},
   "outputs": [],
   "source": [
    "y_pred = linear.predict(X_test_scaled)"
   ]
  },
  {
   "cell_type": "code",
   "execution_count": 67,
   "id": "555c780f",
   "metadata": {},
   "outputs": [
    {
     "name": "stdout",
     "output_type": "stream",
     "text": [
      "MSE: 0.2517423381087437\n",
      "RMSE: 0.5017393128993818\n",
      "MAE: 0.37994372263195386\n",
      "R_squared: -0.04200370398638187\n"
     ]
    }
   ],
   "source": [
    "print('MSE:', mean_squared_error(y_pred, y_test, squared=True))\n",
    "print('RMSE:', mean_squared_error(y_pred, y_test, squared=False))\n",
    "print('MAE:', mean_absolute_error(y_pred, y_test))\n",
    "print('R_squared:', r2_score(y_pred, y_test))"
   ]
  },
  {
   "cell_type": "code",
   "execution_count": null,
   "id": "1d8fa029",
   "metadata": {},
   "outputs": [],
   "source": []
  }
 ],
 "metadata": {
  "kernelspec": {
   "display_name": "Python 3",
   "language": "python",
   "name": "python3"
  },
  "language_info": {
   "codemirror_mode": {
    "name": "ipython",
    "version": 3
   },
   "file_extension": ".py",
   "mimetype": "text/x-python",
   "name": "python",
   "nbconvert_exporter": "python",
   "pygments_lexer": "ipython3",
   "version": "3.8.8"
  }
 },
 "nbformat": 4,
 "nbformat_minor": 5
}
